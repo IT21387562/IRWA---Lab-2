{
  "nbformat": 4,
  "nbformat_minor": 0,
  "metadata": {
    "colab": {
      "provenance": [],
      "toc_visible": true
    },
    "kernelspec": {
      "name": "python3",
      "display_name": "Python 3"
    },
    "language_info": {
      "name": "python"
    }
  },
  "cells": [
    {
      "cell_type": "code",
      "execution_count": 1,
      "metadata": {
        "colab": {
          "base_uri": "https://localhost:8080/"
        },
        "id": "vLegSIN7hAy_",
        "outputId": "2fd052e9-6456-4802-df6c-c7161e9abbb6"
      },
      "outputs": [
        {
          "output_type": "stream",
          "name": "stdout",
          "text": [
            "Mounted at /content/drive\n"
          ]
        }
      ],
      "source": [
        "from google.colab import drive\n",
        "drive.mount('/content/drive')\n",
        "\n"
      ]
    },
    {
      "cell_type": "code",
      "source": [
        "import os\n",
        "\n",
        "directionary = '/content/drive/MyDrive/IRWA/Lab_02/inverted'\n",
        "\n",
        "files = os.listdir(directionary)\n",
        "print(files)"
      ],
      "metadata": {
        "colab": {
          "base_uri": "https://localhost:8080/"
        },
        "id": "-tyPqVU9htnL",
        "outputId": "16e845d9-357d-4987-ec17-da4a5ece1ad0"
      },
      "execution_count": 2,
      "outputs": [
        {
          "output_type": "stream",
          "name": "stdout",
          "text": [
            "['Doc1.txt', 'Doc2.txt', 'Doc3.txt', 'Doc4.txt']\n"
          ]
        }
      ]
    },
    {
      "cell_type": "code",
      "source": [
        "#Write the code to build the inverted index for the above corpus.\n",
        "\n",
        "dict1 = dict()\n",
        "\n",
        "def invertedIndex():\n",
        " for file in files:\n",
        "   with open('/content/drive/MyDrive/IRWA/Lab_02/inverted/'+file, 'r')as f:\n",
        "     words = f.read().lower().split()\n",
        "     #print(words)\n",
        "\n",
        "\n",
        "     for word in words:\n",
        "       #check the words already is the dictionary\n",
        "       if word not in dict1:\n",
        "         dict1[word]=[file]\n",
        "       else:\n",
        "         dict1[word].append(file)\n",
        "\n",
        " #print(dict1)\n",
        "\n",
        " return dict1"
      ],
      "metadata": {
        "id": "FnT4bnyLi8e6"
      },
      "execution_count": 22,
      "outputs": []
    },
    {
      "cell_type": "code",
      "source": [
        "#part b of Q1\n",
        "\n",
        "#schizophrenia AND drug\n",
        "\n",
        "def And_op(list1,list2):\n",
        "  return set(list1).intersection(list2)"
      ],
      "metadata": {
        "id": "8yY3jSIQjscM"
      },
      "execution_count": 26,
      "outputs": []
    },
    {
      "cell_type": "code",
      "source": [
        "ii = invertedIndex()\n",
        "\n",
        "for key in ii:\n",
        "  if key == 'schizophrenia':\n",
        "    list1 = ii[key]\n",
        "  elif key == 'drug':\n",
        "    list2 = ii[key]\n",
        "\n",
        "#print(list1)\n",
        "#print(list2)\n",
        "\n",
        "print('schizophrenia AND drug : ', And_op(list1,list2))\n",
        ""
      ],
      "metadata": {
        "colab": {
          "base_uri": "https://localhost:8080/"
        },
        "id": "xIr_QdaTmhWh",
        "outputId": "0d13d6a5-90ca-4e25-e6a4-221317b5ed99"
      },
      "execution_count": 23,
      "outputs": [
        {
          "output_type": "stream",
          "name": "stdout",
          "text": [
            "schizophrenia AND drug {'Doc1.txt', 'Doc2.txt'}\n"
          ]
        }
      ]
    },
    {
      "cell_type": "code",
      "source": [
        "# for AND NOT(drug OR approach)\n",
        "\n",
        "# define OR operation\n",
        "\n",
        "def Or_op(list1,list2):\n",
        "  return set(list1).union(list2)"
      ],
      "metadata": {
        "id": "XxE9H5FFqbII"
      },
      "execution_count": 31,
      "outputs": []
    },
    {
      "cell_type": "code",
      "source": [
        "#define NOT operation\n",
        "\n",
        "def Not_op(a):\n",
        "  return set(files).symmetric_difference(a)"
      ],
      "metadata": {
        "id": "iRhddfABsa4V"
      },
      "execution_count": 32,
      "outputs": []
    },
    {
      "cell_type": "code",
      "source": [
        "#use ii\n",
        "\n",
        "for key in ii:\n",
        "  if key == 'drug':\n",
        "    list1 = ii[key]\n",
        "  elif key == 'approach':\n",
        "    list2 = ii[key]\n",
        "  elif key == 'for':\n",
        "    list3 = ii[key]\n",
        "\n",
        "#apply OR operator\n",
        "list4 = Or_op(list1,list2)\n",
        "\n",
        "#NOT\n",
        "list5 = Not_op(list4)\n",
        "\n",
        "#And\n",
        "list6 = And_op(list5,list3)\n",
        "\n",
        "print(' for AND NOT(drug OR approach) : ',list6 )"
      ],
      "metadata": {
        "colab": {
          "base_uri": "https://localhost:8080/"
        },
        "id": "5BHJf_eKsoxM",
        "outputId": "5aaab4de-fc84-4124-beb4-9b5eedb93fce"
      },
      "execution_count": 35,
      "outputs": [
        {
          "output_type": "stream",
          "name": "stdout",
          "text": [
            " for AND NOT(drug OR approach) :  {'Doc4.txt'}\n"
          ]
        }
      ]
    },
    {
      "cell_type": "markdown",
      "source": [
        "# New Section"
      ],
      "metadata": {
        "id": "dbJaxmnmuxMT"
      }
    }
  ]
}